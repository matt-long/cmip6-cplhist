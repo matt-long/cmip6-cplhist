{
 "cells": [
  {
   "cell_type": "code",
   "execution_count": 1,
   "id": "474b3aa3-2ff6-4863-a019-691c72cc515b",
   "metadata": {},
   "outputs": [],
   "source": [
    "%load_ext autoreload\n",
    "%autoreload 2"
   ]
  },
  {
   "cell_type": "code",
   "execution_count": 2,
   "id": "06e14c89-d21f-4415-ae40-4b689775debc",
   "metadata": {},
   "outputs": [],
   "source": [
    "import os\n",
    "import shutil\n",
    "from subprocess import check_call\n",
    "from glob import glob\n",
    "\n",
    "import socket\n",
    "\n",
    "import yaml\n",
    "import textwrap\n",
    "\n",
    "\n",
    "import cesm_tools\n",
    "import util\n",
    "\n",
    "this_notebook = 'create-new-case.ipynb'\n",
    "\n",
    "assert 'cheyenne' in socket.gethostname(), (\n",
    "    'this notebook must be run on cheyenne login node'\n",
    ")"
   ]
  },
  {
   "cell_type": "markdown",
   "id": "855c3d70-d52e-479b-a563-a08d4a3050dd",
   "metadata": {},
   "source": [
    "## Check out model code and configure sandbox "
   ]
  },
  {
   "cell_type": "code",
   "execution_count": 3,
   "id": "c3349b52-d306-4401-8cd7-7886f3a7afb0",
   "metadata": {},
   "outputs": [
    {
     "name": "stdout",
     "output_type": "stream",
     "text": [
      "Check for right tag: /glade/work/mclong/codes/release-cesm2.1.3\n",
      "HEAD detached at release-cesm2.1.3\n",
      "nothing to commit, working tree clean\n",
      "\n",
      "\n"
     ]
    }
   ],
   "source": [
    "remote = 'git@github.com:ESCOMP/CESM.git'\n",
    "\n",
    "coderoot = f\"/glade/work/{os.environ['USER']}/codes\"\n",
    "cesmtag = 'release-cesm2.1.3'\n",
    "\n",
    "cesmroot = cesm_tools.code_checkout(remote, coderoot, cesmtag)"
   ]
  },
  {
   "cell_type": "markdown",
   "id": "3427564d-9815-4136-ad45-1c0f01cefa66",
   "metadata": {},
   "source": [
    "## Set up local directory and machine-dependent paths"
   ]
  },
  {
   "cell_type": "code",
   "execution_count": 4,
   "id": "07611f3f-a36f-46af-ac24-6e344c6b187f",
   "metadata": {},
   "outputs": [],
   "source": [
    "USER = os.environ[\"USER\"]\n",
    "scriptroot = os.getcwd()\n",
    "\n",
    "machine = \"cheyenne\"\n",
    "if machine in [\"cheyenne\"]:\n",
    "    inputdata = \"/glade/p/cesmdata/cseg/inputdata\"\n",
    "    scratch = f\"/glade/scratch/{USER}\"\n",
    "    project_root = f'/glade/work/{USER}/cmip6-cplhist'\n",
    "    project_data = f'{project_root}/data'\n",
    "    caseroot_root = f'{project_root}/cases'\n",
    "else:\n",
    "    raise ValueError(f\"unknown machine: {machine}\")"
   ]
  },
  {
   "cell_type": "markdown",
   "id": "b7ade7d8-439f-471d-9ed5-eb604da95c0b",
   "metadata": {},
   "source": [
    "## Setup case options\n",
    "\n",
    "Information on compsets is [here](https://www.cesm.ucar.edu/models/cesm2/config/2.1.3/compsets.html)."
   ]
  },
  {
   "cell_type": "code",
   "execution_count": 5,
   "id": "16ce1a6c-d61b-4062-ae18-00745256931a",
   "metadata": {},
   "outputs": [],
   "source": [
    "clobber = True\n",
    "\n",
    "PROJECT = \"P93300670\"\n",
    "\n",
    "cplhist_case = \"b.e21.BHIST.f09_g17.CMIP6-historical.011\"\n",
    "\n",
    "cycle_ocn_physics = True\n",
    "\n",
    "member_id = 2\n",
    "\n",
    "description = \"\"\"\n",
    "CPLHIST control case.\n",
    "The 001 test was getting CO2 from the ha2x3h stream due to:\n",
    "  atm_co2_opt = 'drv_diag'\n",
    "In 002, changing this setting to:\n",
    "  atm_co2_opt = 'constant'\n",
    "\"\"\"\n",
    "\n",
    "if cycle_ocn_physics:\n",
    "    phys_cycle = '.phys_cycle'\n",
    "    compset = '1850_DATM%CPLHIST_SLND_CICE_POP2%ECO%PHYS-CYCLE_DROF%CPLHIST_SGLC_WW3'\n",
    "else:\n",
    "    phys_cycle = ''\n",
    "    compset = \"1850_DATM%CPLHIST_SLND_CICE_POP2%ECO_DROF%CPLHIST_SGLC_WW3\"\n",
    "\n",
    "case = f'g.bforced{phys_cycle}{cplhist_case[1:]}.{member_id:03d}'\n",
    "resolution = \"f09_g17\"\n",
    "\n",
    "# initialization/forcing\n",
    "run_startdate = '1850-01-01'\n",
    "datm_cplhist_yr_start = 1850\n",
    "datm_cplhist_yr_end = 1870\n",
    "\n",
    "refcase = 'b.e21.B1850.f09_g17.CMIP6-piControl.001'\n",
    "refdate = \"0871-01-01\"\n",
    "\n",
    "# run setting\n",
    "resubmit = 2\n",
    "stop_n = 10\n",
    "stop_option = \"nyear\"\n",
    "rest_n = 10\n",
    "rest_option = \"nyear\"\n",
    "wallclock = \"12:00:00\"\n",
    "queue = \"regular\"\n",
    "\n",
    "# paths\n",
    "caseinfo_file = f\"case-info/{case}.yml\"\n",
    "caseroot = f\"{caseroot_root}/{case}\"\n",
    "rundir = f\"{scratch}/{case}\"\n",
    "archive_root = f\"{scratch}/archive/{case}\""
   ]
  },
  {
   "cell_type": "markdown",
   "id": "1cbf577a-d28b-46ec-bf33-f917fcbe6c4e",
   "metadata": {},
   "source": [
    "## Create case\n",
    "\n",
    "### Determine if existing case exists, remove if `clobber=True`."
   ]
  },
  {
   "cell_type": "code",
   "execution_count": 6,
   "id": "78f95807-7fe1-4a19-b122-556c6b9b9fe7",
   "metadata": {},
   "outputs": [
    {
     "name": "stdout",
     "output_type": "stream",
     "text": [
      "deleting /glade/work/mclong/cmip6-cplhist/cases/g.bforced.phys_cycle.e21.BHIST.f09_g17.CMIP6-historical.011.002\n",
      "deleting /glade/scratch/mclong/g.bforced.phys_cycle.e21.BHIST.f09_g17.CMIP6-historical.011.002\n"
     ]
    }
   ],
   "source": [
    "# ensure root directories\n",
    "os.makedirs(os.path.dirname(caseroot), exist_ok=True)\n",
    "os.makedirs(os.path.dirname(caseinfo_file), exist_ok=True)\n",
    "\n",
    "if clobber:\n",
    "    check_call(['rm', '-f', caseinfo_file])\n",
    "\n",
    "create_build_case = not os.path.exists(caseinfo_file)\n",
    "\n",
    "if create_build_case:\n",
    "    with open(caseinfo_file, \"w\") as fid:\n",
    "        yaml.dump(\n",
    "            dict(\n",
    "                case=case,\n",
    "                description=description,\n",
    "                caseroot=caseroot,\n",
    "                rundir=rundir,\n",
    "                archive_root=archive_root,\n",
    "                compset=compset,\n",
    "                resolution=resolution,\n",
    "            ),\n",
    "            fid,\n",
    "        )\n",
    "    if os.path.exists(caseroot):\n",
    "        print(f\"deleting {caseroot}\")\n",
    "        check_call(['rm', '-fr', caseroot])\n",
    "    if os.path.exists(rundir):\n",
    "        print(f\"deleting {rundir}\")\n",
    "        check_call(['rm', '-fr', rundir])"
   ]
  },
  {
   "cell_type": "code",
   "execution_count": 7,
   "id": "4c1d1b10-000b-4994-b555-6245954bb01d",
   "metadata": {},
   "outputs": [
    {
     "name": "stdout",
     "output_type": "stream",
     "text": [
      "Compset longname is 1850_DATM%CPLHIST_SLND_CICE_POP2%ECO%PHYS-CYCLE_DROF%CPLHIST_SGLC_WW3\n",
      "Compset specification file is /glade/work/mclong/codes/release-cesm2.1.3/cime/../components/pop//cime_config/config_compsets.xml\n",
      "Compset forcing is 1850\n",
      "ATM component is  Data driven ATM  Coupler hist data set (in this mode, it is strongly recommended that the model domain and the coupler history forcing are on the same domain)\n",
      "LND component is Stub land component\n",
      "ICE component is Sea ICE (cice) model version 5\n",
      "OCN component is POP2 Ecosystemphys cycle option\n",
      "ROF component is Data runoff modelCPLHIST mode:\n",
      "GLC component is Stub glacier (land ice) component\n",
      "WAV component is Wave Watch\n",
      "ESP component is \n",
      "Pes     specification file is /glade/work/mclong/codes/release-cesm2.1.3/cime/../components/pop//cime_config/config_pes.xml\n",
      "Compset specific settings: name is PRERUN_SCRIPT and value is $SRCROOT/components/pop/cime_config/phys_cycle_prerun\n",
      "Compset specific settings: name is POSTRUN_SCRIPT and value is $SRCROOT/components/pop/cime_config/phys_cycle_postrun\n",
      "Compset specific settings: name is RESUBMIT_SETS_CONTINUE_RUN and value is FALSE\n",
      "Machine is cheyenne\n",
      "Pes setting: grid match    is oi%gx1v[67]|oi%tx1v1 \n",
      "Pes setting: machine match is cheyenne \n",
      "Pes setting: compset_match is _DATM.*_CICE.*_POP2%ECO \n",
      "Pes setting: grid          is a%0.9x1.25_l%null_oi%gx1v7_r%r05_g%null_w%ww3a_m%gx1v7 \n",
      "Pes setting: compset       is 1850_DATM%CPLHIST_SLND_CICE_POP2%ECO%PHYS-CYCLE_DROF%CPLHIST_SGLC_WW3 \n",
      "Pes setting: tasks       is {'NTASKS_OCN': 216, 'NTASKS_ICE': 36, 'NTASKS_CPL': 36, 'NTASKS_WAV': 36, 'NTASKS_ATM': 36, 'NTASKS_GLC': 36, 'NTASKS_LND': 36, 'NTASKS_ROF': 36} \n",
      "Pes setting: threads     is {'NTHRDS_OCN': 2, 'NTHRDS_ICE': 2, 'NTHRDS_CPL': 2, 'NTHRDS_WAV': 2, 'NTHRDS_ATM': 2, 'NTHRDS_GLC': 2, 'NTHRDS_LND': 2, 'NTHRDS_ROF': 2} \n",
      "Pes setting: rootpe      is {'ROOTPE_OCN': 36, 'ROOTPE_ICE': 0, 'ROOTPE_CPL': 0, 'ROOTPE_WAV': 0, 'ROOTPE_ATM': 0, 'ROOTPE_GLC': 0, 'ROOTPE_LND': 0, 'ROOTPE_ROF': 0} \n",
      "Pes setting: pstrid      is {} \n",
      "Pes other settings: {}\n",
      "Pes comments: G+ECO (e.g., G1850ECO); gx1v6, gx1v7, or tx1v1 resolution on cheyenne\n",
      " Compset is: 1850_DATM%CPLHIST_SLND_CICE_POP2%ECO%PHYS-CYCLE_DROF%CPLHIST_SGLC_WW3 \n",
      " Grid is: a%0.9x1.25_l%null_oi%gx1v7_r%r05_g%null_w%ww3a_m%gx1v7 \n",
      " Components in compset are: ['datm', 'slnd', 'cice', 'pop', 'drof', 'sglc', 'ww3', 'sesp', 'drv', 'dart'] \n",
      "No charge_account info available, using value from PROJECT\n",
      "No project info available\n",
      "cesm model version found: cesm2.1.3-rc.01\n",
      "Batch_system_type is pbs\n",
      "job is case.run USER_REQUESTED_WALLTIME None USER_REQUESTED_QUEUE None WALLTIME_FORMAT %H:%M:%S\n",
      "job is case.st_archive USER_REQUESTED_WALLTIME None USER_REQUESTED_QUEUE None WALLTIME_FORMAT %H:%M:%S\n",
      " Creating Case directory /glade/work/mclong/cmip6-cplhist/cases/g.bforced.phys_cycle.e21.BHIST.f09_g17.CMIP6-historical.011.002\n"
     ]
    }
   ],
   "source": [
    "if create_build_case:\n",
    "    check_call(\n",
    "        [\n",
    "            \"./create_newcase\",\n",
    "            \"--case\",\n",
    "            caseroot,\n",
    "            \"--project\",\n",
    "            PROJECT,\n",
    "            \"--machine\",\n",
    "            machine,\n",
    "            \"--res\",\n",
    "            resolution,\n",
    "            \"--compset\",\n",
    "            compset,\n",
    "            \"--run-unsupport\",\n",
    "        ],\n",
    "        cwd=f\"{cesmroot}/cime/scripts\",\n",
    "    )"
   ]
  },
  {
   "cell_type": "markdown",
   "id": "be6c54e4-d019-4cfb-bfa9-bca632e31e2b",
   "metadata": {},
   "source": [
    "## Configure case"
   ]
  },
  {
   "cell_type": "markdown",
   "id": "51475f13-8a20-4cda-8d26-08e2a851543e",
   "metadata": {},
   "source": [
    "### Apply XML settings\n",
    "\n",
    "Documentation is provided [here](https://www.cesm.ucar.edu/models/cesm2/settings/2.1.3/)."
   ]
  },
  {
   "cell_type": "code",
   "execution_count": 8,
   "id": "59f0f4f8-1485-4b57-b5e7-d2379f155c82",
   "metadata": {},
   "outputs": [],
   "source": [
    "def xmlchange(arg):\n",
    "    \"\"\"call xmlchange\"\"\"\n",
    "    check_call([\"./xmlchange\", arg], cwd=caseroot)"
   ]
  },
  {
   "cell_type": "code",
   "execution_count": 9,
   "id": "00739ce5-cb6f-41b0-867b-21cbbba9d92a",
   "metadata": {},
   "outputs": [],
   "source": [
    "if create_build_case:\n",
    "\n",
    "    # forcing/forcing collections\n",
    "    xmlchange(\"OCN_COUPLING=full\")\n",
    "\n",
    "    if not cycle_ocn_physics:\n",
    "        xmlchange(\"OCN_TRANSIENT=1850-2000\")\n",
    "        xmlchange(\"DATM_CO2_TSERIES=omip\") # this might not be necessary as \n",
    "                                           # CO2 is in the cplhist ha2x3h files\n",
    "                                           # TODO: test setting atm_co2_opt = 'drv_diag'\n",
    "                                           #       and eliminate this setting\n",
    "\n",
    "    # cplhist settings\n",
    "    xmlchange(f\"DATM_CPLHIST_CASE={cplhist_case}\")\n",
    "    xmlchange(f\"DATM_CPLHIST_DIR={util.cplhist_stage_root}/cpl_hist/{cplhist_case}/monthly\")\n",
    "    xmlchange(f\"DATM_CPLHIST_YR_START={datm_cplhist_yr_start}\")\n",
    "    xmlchange(f\"DATM_CPLHIST_YR_END={datm_cplhist_yr_end}\")\n",
    "    xmlchange(f\"DATM_CPLHIST_YR_ALIGN={datm_cplhist_yr_start}\")\n",
    "\n",
    "    xmlchange(f\"DROF_CPLHIST_CASE={cplhist_case}\")\n",
    "    xmlchange(f\"DROF_CPLHIST_DIR={util.cplhist_stage_root}/cpl_hist/{cplhist_case}/monthly\")\n",
    "    xmlchange(f\"DROF_CPLHIST_YR_START={datm_cplhist_yr_start}\")\n",
    "    xmlchange(f\"DROF_CPLHIST_YR_END={datm_cplhist_yr_end}\")\n",
    "    xmlchange(f\"DROF_CPLHIST_YR_ALIGN={datm_cplhist_yr_start}\")\n",
    "\n",
    "    xmlchange(f\"RUN_STARTDATE={run_startdate}\")\n",
    "\n",
    "else:\n",
    "    xmlchange(\"CONTINUE_RUN=TRUE\")\n",
    "\n",
    "xmlchange(f\"RESUBMIT={resubmit}\")\n",
    "xmlchange(f\"STOP_OPTION={stop_option}\")\n",
    "xmlchange(f\"STOP_N={stop_n}\")\n",
    "xmlchange(f\"REST_OPTION={rest_option}\")\n",
    "xmlchange(f\"REST_N={rest_n}\")\n",
    "xmlchange(f\"JOB_WALLCLOCK_TIME={wallclock}\")\n",
    "xmlchange(f\"JOB_QUEUE={queue}\");"
   ]
  },
  {
   "cell_type": "markdown",
   "id": "d88be872-f3ed-44f6-8357-b5faac40ea37",
   "metadata": {},
   "source": [
    "## Run setup"
   ]
  },
  {
   "cell_type": "code",
   "execution_count": 10,
   "id": "13b944bc-cb0f-4c0f-a1d7-1517d0c10928",
   "metadata": {},
   "outputs": [
    {
     "name": "stdout",
     "output_type": "stream",
     "text": [
      "Setting resource.RLIMIT_STACK to -1 from (307200000, -1)\n",
      "job is case.run USER_REQUESTED_WALLTIME 12:00:00 USER_REQUESTED_QUEUE regular WALLTIME_FORMAT %H:%M:%S\n",
      "Creating batch scripts\n",
      "Writing case.run script from input template /glade/work/mclong/codes/release-cesm2.1.3/cime/config/cesm/machines/template.case.run\n",
      "Creating file .case.run\n",
      "Writing case.st_archive script from input template /glade/work/mclong/codes/release-cesm2.1.3/cime/config/cesm/machines/template.st_archive\n",
      "Creating file case.st_archive\n"
     ]
    },
    {
     "name": "stderr",
     "output_type": "stream",
     "text": [
      "/glade/work/mclong/cmip6-cplhist/cases/g.bforced.phys_cycle.e21.BHIST.f09_g17.CMIP6-historical.011.002/env_mach_specific.xml already exists, delete to replace\n"
     ]
    },
    {
     "name": "stdout",
     "output_type": "stream",
     "text": [
      "Creating user_nl_xxx files for components and cpl\n",
      "If an old case build already exists, might want to run 'case.build --clean' before building\n",
      "You can now run './preview_run' to get more info on how your case will be run\n"
     ]
    }
   ],
   "source": [
    "if create_build_case:\n",
    "    check_call(['./case.setup'], cwd=caseroot)"
   ]
  },
  {
   "cell_type": "markdown",
   "id": "6a46dc16-3817-40f7-8134-309b8b9563fc",
   "metadata": {},
   "source": [
    "## Namelist settings"
   ]
  },
  {
   "cell_type": "markdown",
   "id": "cd843fde-ef90-4636-aff7-74ee8a38c4fe",
   "metadata": {},
   "source": [
    "### Write namelist modifcations\n",
    "\n",
    "Documentation for the POP namelist is [here](https://www.cesm.ucar.edu/models/cesm2/settings/2.1.3/pop2_nml.html)."
   ]
  },
  {
   "cell_type": "code",
   "execution_count": 11,
   "id": "54aae15b-739b-4569-82f5-560eb5424504",
   "metadata": {},
   "outputs": [],
   "source": [
    "salinity_restoring_data_file = None\n",
    "if not cycle_ocn_physics:\n",
    "    salinity_restoring_data_file = glob(\n",
    "        f\"{util.restoring_data_stage_root}/{cplhist_case}/{cplhist_case}.SSS.day.*.ieeer8\"\n",
    "    )\n",
    "\n",
    "    assert len(salinity_restoring_data_file) == 1, (\n",
    "        f\"glob for: {util.restoring_data_stage_root}/{cplhist_case}/{cplhist_case}.SSS.day.*.ieeer8\",\n",
    "        f\"returned unexepected number of files: {len(salinity_restoring_data_file)}\"\n",
    "\n",
    "    )\n",
    "    salinity_restoring_data_file = salinity_restoring_data_file[0]\n",
    "\n",
    "salinity_restoring_data_file"
   ]
  },
  {
   "cell_type": "code",
   "execution_count": 12,
   "id": "0eecd3c5-ff7e-49b4-b382-5211400c5326",
   "metadata": {},
   "outputs": [],
   "source": [
    "def list_to_nml_list(lst):\n",
    "    return \",\".join([f\"'{v}'\" for v in lst])\n",
    "\n",
    "user_nl = dict()\n",
    "\n",
    "if cycle_ocn_physics:\n",
    "    user_nl['pop'] = textwrap.dedent(\n",
    "        f\"\"\"\\\n",
    "    &ecosys_forcing_data_nml\n",
    "      atm_co2_opt = 'const'\n",
    "      atm_co2_const = 284.7\n",
    "      atm_alt_co2_const = 284.7\n",
    "    \"\"\"\n",
    "    )\n",
    "else:    \n",
    "    # add salinity restoring details to namelist\n",
    "    user_nl['pop'] = textwrap.dedent(\n",
    "        f\"\"\"\\\n",
    "    &ecosys_forcing_data_nml\n",
    "      atm_alt_co2_opt = 'const'\n",
    "      atm_alt_co2_const = 284.7\n",
    "    &forcing_sfwf_nml\n",
    "      sfwf_data_inc = 24.0 ! file has data every 24 hours\n",
    "      sfwf_data_renorm = 1.0 ! salinity restoring file did not apply scale_factor\n",
    "      sfwf_data_type = 'n-hour'\n",
    "      sfwf_file_fmt = 'bin'\n",
    "      sfwf_filename = '{salinity_restoring_data_file}'\n",
    "      sfwf_formulation = 'restoring'\n",
    "      sfwf_interp_freq = 'every-timestep'\n",
    "      sfwf_interp_type = 'linear'\n",
    "      sfwf_restore_tau = 30.0 ! days\n",
    "    \"\"\"\n",
    "    )\n",
    "\n",
    "if create_build_case:\n",
    "    for key, nl in user_nl.items():\n",
    "        with open(f\"{caseroot}/user_nl_{key}\", 'w') as fid:\n",
    "            fid.write(user_nl[key])"
   ]
  },
  {
   "cell_type": "markdown",
   "id": "7f8055d8-b562-4501-9b42-87de3a9dd013",
   "metadata": {},
   "source": [
    "## Build the model"
   ]
  },
  {
   "cell_type": "code",
   "execution_count": 13,
   "id": "95b5b0ed-e286-4d47-aa17-d2b052ee3814",
   "metadata": {
    "tags": []
   },
   "outputs": [
    {
     "name": "stdout",
     "output_type": "stream",
     "text": [
      "Submitting command to PBS using account P93300670:\n",
      "    ./case.build\n",
      "\n",
      "Requested custom PBS options:\n",
      "    -A P93300670 \n",
      "\n",
      "Waiting for job 5079008.chadmin1.ib0.cheyenne.ucar.edu to start ... \n",
      "\n",
      "\n",
      "Building case in directory /glade/work/mclong/cmip6-cplhist/cases/g.bforced.phys_cycle.e21.BHIST.f09_g17.CMIP6-historical.011.002\n",
      "sharedlib_only is False\n",
      "model_only is False\n",
      "Setting resource.RLIMIT_STACK to -1 from (-1, -1)\n",
      "Generating component namelists as part of build\n",
      "Creating component namelists\n",
      "   Calling /glade/work/mclong/codes/release-cesm2.1.3/cime/src/components/data_comps/datm/cime_config/buildnml\n",
      "   ....  Obtaining DATM model domain info from first stream file: CPLHISTForcing.Solar\n",
      "   Calling /glade/work/mclong/codes/release-cesm2.1.3/cime/src/components/stub_comps/slnd/cime_config/buildnml\n",
      "   Calling /glade/work/mclong/codes/release-cesm2.1.3/components/cice//cime_config/buildnml\n",
      "     ...buildnml calling cice buildcpp to set build time options\n",
      "   Calling /glade/work/mclong/codes/release-cesm2.1.3/components/pop//cime_config/buildnml\n",
      "     ... buildnml: calling pop buildcpp to set build time options\n",
      "   Calling /glade/work/mclong/codes/release-cesm2.1.3/cime/src/components/data_comps/drof/cime_config/buildnml\n",
      "   ....  Obtaining DROF model domain info from first stream file: rof.cplhist\n",
      "   Calling /glade/work/mclong/codes/release-cesm2.1.3/cime/src/components/stub_comps/sglc/cime_config/buildnml\n",
      "   Calling /glade/work/mclong/codes/release-cesm2.1.3/components/ww3//cime_config/buildnml\n",
      "   Calling /glade/work/mclong/codes/release-cesm2.1.3/cime/src/components/stub_comps/sesp/cime_config/buildnml\n",
      "   Calling /glade/work/mclong/codes/release-cesm2.1.3/cime/src/drivers/mct/cime_config/buildnml\n",
      "Finished creating component namelists\n",
      "Building gptl with output to file /glade/scratch/mclong/g.bforced.phys_cycle.e21.BHIST.f09_g17.CMIP6-historical.011.002/bld/gptl.bldlog.220720-065754\n",
      "   Calling /glade/work/mclong/codes/release-cesm2.1.3/cime/src/build_scripts/buildlib.gptl\n",
      "Building mct with output to file /glade/scratch/mclong/g.bforced.phys_cycle.e21.BHIST.f09_g17.CMIP6-historical.011.002/bld/mct.bldlog.220720-065754\n",
      "   Calling /glade/work/mclong/codes/release-cesm2.1.3/cime/src/build_scripts/buildlib.mct\n",
      "Building pio with output to file /glade/scratch/mclong/g.bforced.phys_cycle.e21.BHIST.f09_g17.CMIP6-historical.011.002/bld/pio.bldlog.220720-065754\n",
      "   Calling /glade/work/mclong/codes/release-cesm2.1.3/cime/src/build_scripts/buildlib.pio\n",
      "Component pio build complete with 2 warnings\n",
      "Building csm_share with output to file /glade/scratch/mclong/g.bforced.phys_cycle.e21.BHIST.f09_g17.CMIP6-historical.011.002/bld/csm_share.bldlog.220720-065754\n",
      "   Calling /glade/work/mclong/codes/release-cesm2.1.3/cime/src/build_scripts/buildlib.csm_share\n",
      "Component csm_share build complete with 20 warnings\n",
      "Building atm with output to /glade/scratch/mclong/g.bforced.phys_cycle.e21.BHIST.f09_g17.CMIP6-historical.011.002/bld/atm.bldlog.220720-065754\n",
      "Building lnd with output to /glade/scratch/mclong/g.bforced.phys_cycle.e21.BHIST.f09_g17.CMIP6-historical.011.002/bld/lnd.bldlog.220720-065754\n",
      "Building ice with output to /glade/scratch/mclong/g.bforced.phys_cycle.e21.BHIST.f09_g17.CMIP6-historical.011.002/bld/ice.bldlog.220720-065754\n",
      "Building ocn with output to /glade/scratch/mclong/g.bforced.phys_cycle.e21.BHIST.f09_g17.CMIP6-historical.011.002/bld/ocn.bldlog.220720-065754\n",
      "Building rof with output to /glade/scratch/mclong/g.bforced.phys_cycle.e21.BHIST.f09_g17.CMIP6-historical.011.002/bld/rof.bldlog.220720-065754\n",
      "Building glc with output to /glade/scratch/mclong/g.bforced.phys_cycle.e21.BHIST.f09_g17.CMIP6-historical.011.002/bld/glc.bldlog.220720-065754\n",
      "Building wav with output to /glade/scratch/mclong/g.bforced.phys_cycle.e21.BHIST.f09_g17.CMIP6-historical.011.002/bld/wav.bldlog.220720-065754\n",
      "Building esp with output to /glade/scratch/mclong/g.bforced.phys_cycle.e21.BHIST.f09_g17.CMIP6-historical.011.002/bld/esp.bldlog.220720-065754\n",
      "sesp built in 5.368591 seconds\n",
      "slnd built in 6.222934 seconds\n",
      "sglc built in 6.733791 seconds\n",
      "drof built in 19.994696 seconds\n",
      "datm built in 27.845462 seconds\n",
      "ww built in 85.691318 seconds\n",
      "Component ice build complete with 1 warnings\n",
      "cice built in 141.445600 seconds\n",
      "Component ocn build complete with 11 warnings\n",
      "pop built in 337.038219 seconds\n",
      "Building cesm with output to /glade/scratch/mclong/g.bforced.phys_cycle.e21.BHIST.f09_g17.CMIP6-historical.011.002/bld/cesm.bldlog.220720-065754 \n",
      "Time spent not building: 4.759899 sec\n",
      "Time spent building: 648.986102 sec\n",
      "MODEL BUILD HAS FINISHED SUCCESSFULLY\n"
     ]
    }
   ],
   "source": [
    "if create_build_case:\n",
    "    check_call(['qcmd', '-A', PROJECT, '--', './case.build'], cwd=caseroot)"
   ]
  },
  {
   "cell_type": "markdown",
   "id": "5f4a85ff-d6c2-407d-a790-b35440de06f3",
   "metadata": {},
   "source": [
    "## Preview namelists"
   ]
  },
  {
   "cell_type": "code",
   "execution_count": 14,
   "id": "7da87445-123b-4ebb-aa2f-61d30cf9860a",
   "metadata": {},
   "outputs": [
    {
     "data": {
      "text/plain": [
       "0"
      ]
     },
     "execution_count": 14,
     "metadata": {},
     "output_type": "execute_result"
    }
   ],
   "source": [
    "# copy restarts\n",
    "check_call(\n",
    "    f\"cp {util.restart_stage_root}/{refcase}/{refdate}-00000/* {rundir}/run/.\",\n",
    "    shell=True,\n",
    ")"
   ]
  },
  {
   "cell_type": "code",
   "execution_count": 15,
   "id": "d39d7b8c-0ac4-405f-b600-256a45c44d6b",
   "metadata": {},
   "outputs": [
    {
     "name": "stdout",
     "output_type": "stream",
     "text": [
      "Setting resource.RLIMIT_STACK to -1 from (307200000, -1)\n",
      "Creating component namelists\n",
      "   Calling /glade/work/mclong/codes/release-cesm2.1.3/cime/src/components/data_comps/datm/cime_config/buildnml\n",
      "   ....  Obtaining DATM model domain info from first stream file: CPLHISTForcing.Solar\n",
      "   Calling /glade/work/mclong/codes/release-cesm2.1.3/cime/src/components/stub_comps/slnd/cime_config/buildnml\n",
      "   Calling /glade/work/mclong/codes/release-cesm2.1.3/components/cice//cime_config/buildnml\n",
      "   Calling /glade/work/mclong/codes/release-cesm2.1.3/components/pop//cime_config/buildnml\n",
      "   Calling /glade/work/mclong/codes/release-cesm2.1.3/cime/src/components/data_comps/drof/cime_config/buildnml\n",
      "   ....  Obtaining DROF model domain info from first stream file: rof.cplhist\n",
      "   Calling /glade/work/mclong/codes/release-cesm2.1.3/cime/src/components/stub_comps/sglc/cime_config/buildnml\n",
      "   Calling /glade/work/mclong/codes/release-cesm2.1.3/components/ww3//cime_config/buildnml\n",
      "   Calling /glade/work/mclong/codes/release-cesm2.1.3/cime/src/components/stub_comps/sesp/cime_config/buildnml\n",
      "   Calling /glade/work/mclong/codes/release-cesm2.1.3/cime/src/drivers/mct/cime_config/buildnml\n",
      "Finished creating component namelists\n"
     ]
    },
    {
     "data": {
      "text/plain": [
       "0"
      ]
     },
     "execution_count": 15,
     "metadata": {},
     "output_type": "execute_result"
    }
   ],
   "source": [
    "check_call(['./preview_namelists'], cwd=caseroot)"
   ]
  },
  {
   "cell_type": "markdown",
   "id": "f51e148a-7902-41cb-a0ea-888027e0ecf2",
   "metadata": {},
   "source": [
    "## Submit the job"
   ]
  },
  {
   "cell_type": "code",
   "execution_count": 16,
   "id": "87e9a60a-65a6-43c5-9ae6-9ace2b97a206",
   "metadata": {},
   "outputs": [
    {
     "name": "stdout",
     "output_type": "stream",
     "text": [
      "Setting resource.RLIMIT_STACK to -1 from (307200000, -1)\n",
      "Creating component namelists\n",
      "   Calling /glade/work/mclong/codes/release-cesm2.1.3/cime/src/components/data_comps/datm/cime_config/buildnml\n",
      "   ....  Obtaining DATM model domain info from first stream file: CPLHISTForcing.Solar\n",
      "   Calling /glade/work/mclong/codes/release-cesm2.1.3/cime/src/components/stub_comps/slnd/cime_config/buildnml\n",
      "   Calling /glade/work/mclong/codes/release-cesm2.1.3/components/cice//cime_config/buildnml\n",
      "   Calling /glade/work/mclong/codes/release-cesm2.1.3/components/pop//cime_config/buildnml\n",
      "   Calling /glade/work/mclong/codes/release-cesm2.1.3/cime/src/components/data_comps/drof/cime_config/buildnml\n",
      "   ....  Obtaining DROF model domain info from first stream file: rof.cplhist\n",
      "   Calling /glade/work/mclong/codes/release-cesm2.1.3/cime/src/components/stub_comps/sglc/cime_config/buildnml\n",
      "   Calling /glade/work/mclong/codes/release-cesm2.1.3/components/ww3//cime_config/buildnml\n",
      "   Calling /glade/work/mclong/codes/release-cesm2.1.3/cime/src/components/stub_comps/sesp/cime_config/buildnml\n",
      "   Calling /glade/work/mclong/codes/release-cesm2.1.3/cime/src/drivers/mct/cime_config/buildnml\n",
      "Finished creating component namelists\n",
      "Checking that inputdata is available as part of case submission\n",
      "Setting resource.RLIMIT_STACK to -1 from (-1, -1)\n",
      "Loading input file list: 'Buildconf/cpl.input_data_list'\n",
      "Loading input file list: 'Buildconf/pop.input_data_list'\n",
      "Loading input file list: 'Buildconf/ww3.input_data_list'\n",
      "Loading input file list: 'Buildconf/datm.input_data_list'\n",
      "Loading input file list: 'Buildconf/drof.input_data_list'\n",
      "Loading input file list: 'Buildconf/cice.input_data_list'\n",
      "Creating component namelists\n",
      "Finished creating component namelists\n",
      "Check case OK\n",
      "Submitting job script qsub -q regular -l walltime=12:00:00 -A P93300670 -m ea -v ARGS_FOR_SCRIPT='--resubmit' .case.run\n"
     ]
    },
    {
     "name": "stderr",
     "output_type": "stream",
     "text": [
      "submit_jobs case.run\n",
      "Submit job case.run\n"
     ]
    },
    {
     "name": "stdout",
     "output_type": "stream",
     "text": [
      "Submitted job id is 5079030.chadmin1.ib0.cheyenne.ucar.edu\n",
      "Submitting job script qsub -q regular -l walltime=12:00:00 -A P93300670  -W depend=afterok:5079030.chadmin1.ib0.cheyenne.ucar.edu -m ea -v ARGS_FOR_SCRIPT='--resubmit' case.st_archive\n"
     ]
    },
    {
     "name": "stderr",
     "output_type": "stream",
     "text": [
      "Submit job case.st_archive\n"
     ]
    },
    {
     "name": "stdout",
     "output_type": "stream",
     "text": [
      "Submitted job id is 5079031.chadmin1.ib0.cheyenne.ucar.edu\n",
      "Submitted job case.run with id 5079030.chadmin1.ib0.cheyenne.ucar.edu\n",
      "Submitted job case.st_archive with id 5079031.chadmin1.ib0.cheyenne.ucar.edu\n"
     ]
    },
    {
     "data": {
      "text/plain": [
       "0"
      ]
     },
     "execution_count": 16,
     "metadata": {},
     "output_type": "execute_result"
    }
   ],
   "source": [
    "check_call(['./case.submit'], cwd=caseroot)"
   ]
  },
  {
   "cell_type": "markdown",
   "id": "8cbdab1e-9bf5-4528-afe5-b8b103c09055",
   "metadata": {},
   "source": [
    "### Copy this notebook to create record of case creation"
   ]
  },
  {
   "cell_type": "code",
   "execution_count": 18,
   "id": "515513c5-2bba-4514-8481-f1a5906d6f06",
   "metadata": {},
   "outputs": [
    {
     "data": {
      "text/plain": [
       "'case-notebooks/g.bforced.phys_cycle.e21.BHIST.f09_g17.CMIP6-historical.011.002.ipynb'"
      ]
     },
     "execution_count": 18,
     "metadata": {},
     "output_type": "execute_result"
    }
   ],
   "source": [
    "shutil.copyfile(this_notebook, f\"case-notebooks/{case}.ipynb\")"
   ]
  },
  {
   "cell_type": "code",
   "execution_count": null,
   "id": "daf37687-9ec9-4b1d-948e-49c0f688d0ce",
   "metadata": {},
   "outputs": [],
   "source": []
  }
 ],
 "metadata": {
  "kernelspec": {
   "display_name": "Python [conda env:miniconda3-cmip6-cplhist]",
   "language": "python",
   "name": "conda-env-miniconda3-cmip6-cplhist-py"
  },
  "language_info": {
   "codemirror_mode": {
    "name": "ipython",
    "version": 3
   },
   "file_extension": ".py",
   "mimetype": "text/x-python",
   "name": "python",
   "nbconvert_exporter": "python",
   "pygments_lexer": "ipython3",
   "version": "3.7.13"
  }
 },
 "nbformat": 4,
 "nbformat_minor": 5
}
