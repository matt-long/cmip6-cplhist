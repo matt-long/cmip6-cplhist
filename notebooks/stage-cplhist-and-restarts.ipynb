{
 "cells": [
  {
   "cell_type": "code",
   "execution_count": 1,
   "id": "c18cb722-ec11-46b8-8053-7e28985bd582",
   "metadata": {},
   "outputs": [],
   "source": [
    "%load_ext autoreload\n",
    "%autoreload 2"
   ]
  },
  {
   "cell_type": "code",
   "execution_count": 2,
   "id": "c8c185e0-468c-4db5-9dbd-63627a392677",
   "metadata": {},
   "outputs": [
    {
     "name": "stderr",
     "output_type": "stream",
     "text": [
      "/glade/work/mclong/miniconda3/envs/onets/lib/python3.7/site-packages/dask_jobqueue/core.py:20: FutureWarning: tmpfile is deprecated and will be removed in a future release. Please use dask.utils.tmpfile instead.\n",
      "  from distributed.utils import tmpfile\n"
     ]
    }
   ],
   "source": [
    "import os\n",
    "from glob import glob\n",
    "from subprocess import check_output\n",
    "\n",
    "import yaml\n",
    "import dask\n",
    "\n",
    "import util\n",
    "\n",
    "USER = os.environ['USER']\n",
    "\n",
    "assert os.path.exists('/glade/campaign'), (\n",
    "    'campaign is not accessible; run on Casper'\n",
    ")"
   ]
  },
  {
   "cell_type": "markdown",
   "id": "5cc29e9d-34e6-405b-ba88-aaf3a5a53bbf",
   "metadata": {},
   "source": [
    "## Get info on cases to process"
   ]
  },
  {
   "cell_type": "code",
   "execution_count": 16,
   "id": "46a93bec-21cf-4949-bd4c-fe0af37b5c47",
   "metadata": {},
   "outputs": [],
   "source": [
    "restart_campaign = '/glade/campaign/collections/cmip/CMIP6/restarts'\n",
    "cplhist_campaign = '/glade/campaign/collections/cmip/CMIP6/cpl_hist'\n",
    "\n",
    "cplhist_stage_root = util.cplhist_stage_root\n",
    "restart_stage_root = util.restart_stage_root\n",
    "\n",
    "\n",
    "def find_restart_tar(refcase, refdate):\n",
    "    output = check_output(['find', restart_campaign, '-name', f'{refcase}.rest.{refdate}.tar'])\n",
    "    if not output:\n",
    "        print(f'[WARNING]: restart package not found: {refcase}.rest.{refdate}.tar')\n",
    "        return\n",
    "    return output.decode(\"UTF-8\").strip()\n",
    "\n",
    "\n",
    "with open('cplhist-cases.yml') as fid:\n",
    "    cplhist_cases = yaml.safe_load(fid)\n",
    "\n",
    "    \n",
    "experiments = []\n",
    "cplhist_case_list = []\n",
    "restart_cases = []\n",
    "year_range = []\n",
    "for exp, case_info in cplhist_cases.items():\n",
    "    experiments.append(exp)\n",
    "    cplhist_case_list.append(case_info['case'])\n",
    "    year_range.append((case_info['yr_lo'], case_info['yr_hi']))\n",
    "    if exp == 'historical':\n",
    "        refcase = case_info['parent_experiment']\n",
    "        refdate = f\"{case_info['parent_branch_year']:04d}-01-01-00000\"\n",
    "        restart_cases.append({\n",
    "            'refcase': refcase,\n",
    "            'refdate': refdate,\n",
    "            'tarfile': find_restart_tar(refcase, refdate),\n",
    "        })\n",
    "        \n",
    "        \n",
    "concat_jobs = []            "
   ]
  },
  {
   "cell_type": "markdown",
   "id": "9caffc6e-a9d2-4db3-b2a3-290066016f6c",
   "metadata": {},
   "source": [
    "## Spin up dask cluster"
   ]
  },
  {
   "cell_type": "code",
   "execution_count": 4,
   "id": "f2b877f3-92d6-4110-846b-09d3d7f547f9",
   "metadata": {},
   "outputs": [
    {
     "data": {
      "text/html": [
       "<div>\n",
       "    <div style=\"width: 24px; height: 24px; background-color: #e1e1e1; border: 3px solid #9D9D9D; border-radius: 5px; position: absolute;\"> </div>\n",
       "    <div style=\"margin-left: 48px;\">\n",
       "        <h3 style=\"margin-bottom: 0px;\">Client</h3>\n",
       "        <p style=\"color: #9D9D9D; margin-bottom: 0px;\">Client-9c197914-0b50-11ed-aee1-3cecef1b12de</p>\n",
       "        <table style=\"width: 100%; text-align: left;\">\n",
       "\n",
       "        <tr>\n",
       "        \n",
       "            <td style=\"text-align: left;\"><strong>Connection method:</strong> Cluster object</td>\n",
       "            <td style=\"text-align: left;\"><strong>Cluster type:</strong> dask_jobqueue.PBSCluster</td>\n",
       "        \n",
       "        </tr>\n",
       "\n",
       "        \n",
       "            <tr>\n",
       "                <td style=\"text-align: left;\">\n",
       "                    <strong>Dashboard: </strong> <a href=\"https://jupyterhub.hpc.ucar.edu/stable/user/mclong/casper/proxy/8787/status\" target=\"_blank\">https://jupyterhub.hpc.ucar.edu/stable/user/mclong/casper/proxy/8787/status</a>\n",
       "                </td>\n",
       "                <td style=\"text-align: left;\"></td>\n",
       "            </tr>\n",
       "        \n",
       "\n",
       "        </table>\n",
       "\n",
       "        \n",
       "            <details>\n",
       "            <summary style=\"margin-bottom: 20px;\"><h3 style=\"display: inline;\">Cluster Info</h3></summary>\n",
       "            <div class=\"jp-RenderedHTMLCommon jp-RenderedHTML jp-mod-trusted jp-OutputArea-output\">\n",
       "    <div style=\"width: 24px; height: 24px; background-color: #e1e1e1; border: 3px solid #9D9D9D; border-radius: 5px; position: absolute;\">\n",
       "    </div>\n",
       "    <div style=\"margin-left: 48px;\">\n",
       "        <h3 style=\"margin-bottom: 0px; margin-top: 0px;\">PBSCluster</h3>\n",
       "        <p style=\"color: #9D9D9D; margin-bottom: 0px;\">6e6501f8</p>\n",
       "        <table style=\"width: 100%; text-align: left;\">\n",
       "            <tr>\n",
       "                <td style=\"text-align: left;\">\n",
       "                    <strong>Dashboard:</strong> <a href=\"https://jupyterhub.hpc.ucar.edu/stable/user/mclong/casper/proxy/8787/status\" target=\"_blank\">https://jupyterhub.hpc.ucar.edu/stable/user/mclong/casper/proxy/8787/status</a>\n",
       "                </td>\n",
       "                <td style=\"text-align: left;\">\n",
       "                    <strong>Workers:</strong> 0\n",
       "                </td>\n",
       "            </tr>\n",
       "            <tr>\n",
       "                <td style=\"text-align: left;\">\n",
       "                    <strong>Total threads:</strong> 0\n",
       "                </td>\n",
       "                <td style=\"text-align: left;\">\n",
       "                    <strong>Total memory:</strong> 0 B\n",
       "                </td>\n",
       "            </tr>\n",
       "            \n",
       "        </table>\n",
       "\n",
       "        <details>\n",
       "            <summary style=\"margin-bottom: 20px;\">\n",
       "                <h3 style=\"display: inline;\">Scheduler Info</h3>\n",
       "            </summary>\n",
       "\n",
       "            <div style=\"\">\n",
       "    <div>\n",
       "        <div style=\"width: 24px; height: 24px; background-color: #FFF7E5; border: 3px solid #FF6132; border-radius: 5px; position: absolute;\"> </div>\n",
       "        <div style=\"margin-left: 48px;\">\n",
       "            <h3 style=\"margin-bottom: 0px;\">Scheduler</h3>\n",
       "            <p style=\"color: #9D9D9D; margin-bottom: 0px;\">Scheduler-193d8d23-92ec-4398-8f23-b9deb732b00c</p>\n",
       "            <table style=\"width: 100%; text-align: left;\">\n",
       "                <tr>\n",
       "                    <td style=\"text-align: left;\">\n",
       "                        <strong>Comm:</strong> tcp://10.12.206.48:36967\n",
       "                    </td>\n",
       "                    <td style=\"text-align: left;\">\n",
       "                        <strong>Workers:</strong> 0\n",
       "                    </td>\n",
       "                </tr>\n",
       "                <tr>\n",
       "                    <td style=\"text-align: left;\">\n",
       "                        <strong>Dashboard:</strong> <a href=\"https://jupyterhub.hpc.ucar.edu/stable/user/mclong/casper/proxy/8787/status\" target=\"_blank\">https://jupyterhub.hpc.ucar.edu/stable/user/mclong/casper/proxy/8787/status</a>\n",
       "                    </td>\n",
       "                    <td style=\"text-align: left;\">\n",
       "                        <strong>Total threads:</strong> 0\n",
       "                    </td>\n",
       "                </tr>\n",
       "                <tr>\n",
       "                    <td style=\"text-align: left;\">\n",
       "                        <strong>Started:</strong> Just now\n",
       "                    </td>\n",
       "                    <td style=\"text-align: left;\">\n",
       "                        <strong>Total memory:</strong> 0 B\n",
       "                    </td>\n",
       "                </tr>\n",
       "            </table>\n",
       "        </div>\n",
       "    </div>\n",
       "\n",
       "    <details style=\"margin-left: 48px;\">\n",
       "        <summary style=\"margin-bottom: 20px;\">\n",
       "            <h3 style=\"display: inline;\">Workers</h3>\n",
       "        </summary>\n",
       "\n",
       "        \n",
       "\n",
       "    </details>\n",
       "</div>\n",
       "\n",
       "        </details>\n",
       "    </div>\n",
       "</div>\n",
       "            </details>\n",
       "        \n",
       "\n",
       "    </div>\n",
       "</div>"
      ],
      "text/plain": [
       "<Client: 'tcp://10.12.206.48:36967' processes=0 threads=0, memory=0 B>"
      ]
     },
     "execution_count": 4,
     "metadata": {},
     "output_type": "execute_result"
    }
   ],
   "source": [
    "cluster, client = util.get_ClusterClient(walltime='24:00:00')\n",
    "cluster.scale(32)\n",
    "\n",
    "client"
   ]
  },
  {
   "cell_type": "markdown",
   "id": "11201deb-e02e-41d5-977f-f11c44247393",
   "metadata": {},
   "source": [
    "## Unpack `CPLHIST` forcing and concatenate daily `CPLHIST` files into monthly files "
   ]
  },
  {
   "cell_type": "code",
   "execution_count": 17,
   "id": "84a0999e-f600-40d2-89ce-51231b17f1b4",
   "metadata": {},
   "outputs": [
    {
     "name": "stdout",
     "output_type": "stream",
     "text": [
      "b.e21.BHIST.f09_g17.CMIP6-historical.011\n",
      "- ha2x1hi: all monthly files present\n",
      "- ha2x1h: all monthly files present\n",
      "- ha2x3h: all monthly files present\n",
      "- ha2x1d: all monthly files present\n",
      "- hr2x: all monthly files present\n",
      "b.e21.BSSP585cmip6.f09_g17.CMIP6-SSP5-8.5.102\n",
      "- ha2x1hi: all monthly files present\n",
      "- ha2x1h: extracting 86 files\n",
      "- ha2x3h: extracting 86 files\n",
      "- hr2x: extracting 86 files\n"
     ]
    }
   ],
   "source": [
    "streams = ['ha2x', 'ha2x1hi', 'ha2x1h', 'ha2x3h', 'ha2x1d', 'hr2x']\n",
    "\n",
    "if concat_jobs:\n",
    "    raise ValueError('confirm that monthly concatenation is complete')\n",
    "\n",
    "for case, (yr_lo, yr_hi) in zip(cplhist_case_list, year_range):\n",
    "    print(f'{case}')\n",
    "    \n",
    "    dir_daily = f\"{cplhist_stage_root}/cpl_hist/{case}/orig\"\n",
    "    os.makedirs(dir_daily, exist_ok=True)\n",
    "    \n",
    "    dir_monthly = f\"{cplhist_stage_root}/cpl_hist/{case}/monthly\"    \n",
    "    os.makedirs(dir_monthly, exist_ok=True)\n",
    "        \n",
    "    for stream in streams:\n",
    "\n",
    "        tarfiles = sorted(glob(f'{cplhist_campaign}/{case}/*.{stream}.*'))\n",
    "        if not tarfiles:\n",
    "            continue\n",
    "        \n",
    "        years = [int(f.split('.')[-2]) for f in tarfiles]\n",
    "        tarfiles = [f for y, f in zip(years, tarfiles) if yr_lo <= y and y <= yr_hi]\n",
    "        years = [y for y in years if yr_lo <= y and y <= yr_hi]\n",
    "        \n",
    "        monthly_files = [\n",
    "            f'{dir_monthly}/{case}.cpl.{stream}.{y:04d}-{m:02d}.nc' \n",
    "            for y in years for m in range(1, 13)\n",
    "        ]\n",
    "        print(f'- {stream}', end=': ')        \n",
    "        \n",
    "        if not monthly_files:\n",
    "            print('no data found in year range')\n",
    "            continue\n",
    "        \n",
    "        if all([os.path.exists(f) for f in monthly_files]):\n",
    "            print('all monthly files present')\n",
    "            continue\n",
    "        \n",
    "        delayed_objs = []\n",
    "        for tarfile in tarfiles:\n",
    "            delayed_objs.append(\n",
    "                dask.delayed(util.extract_tar)(tarfile, dir_daily)\n",
    "            )\n",
    "\n",
    "        if delayed_objs:\n",
    "            print(f'extracting {len(delayed_objs)} files')\n",
    "            computed_objs = dask.compute(*delayed_objs)\n",
    "\n",
    "        # call concatenator\n",
    "        concat_jobs.append(\n",
    "            util.concat_cplhist_mon(case, stream, yr_lo, yr_hi)\n",
    "        )"
   ]
  },
  {
   "cell_type": "code",
   "execution_count": 18,
   "id": "23d37354-9e15-413b-a34d-ddfb53b2566f",
   "metadata": {},
   "outputs": [],
   "source": [
    "client.close()\n",
    "cluster.close()"
   ]
  },
  {
   "cell_type": "markdown",
   "id": "c64f68c8-5b34-4fd0-922d-3aac2bd07cdb",
   "metadata": {},
   "source": [
    "## Copy restarts"
   ]
  },
  {
   "cell_type": "code",
   "execution_count": 19,
   "id": "39aec551-f4d7-45a9-a153-47b5ab0ab305",
   "metadata": {},
   "outputs": [
    {
     "name": "stdout",
     "output_type": "stream",
     "text": [
      "exists: /glade/scratch/mclong/cplhist_data/restarts/b.e21.B1850.f09_g17.CMIP6-piControl.001/0871-01-01-00000\n"
     ]
    }
   ],
   "source": [
    "for rest_info in restart_cases:\n",
    "    refcase = rest_info['refcase']\n",
    "    refdate = rest_info['refdate']\n",
    "    tarfile = rest_info['tarfile']\n",
    "\n",
    "    if tarfile is None:\n",
    "        continue\n",
    "\n",
    "    dirout = f\"{restart_stage_root}/{refcase}\"\n",
    "    os.makedirs(dirout, exist_ok=True)\n",
    "\n",
    "    if not os.path.exists(f\"{dirout}/{refdate}\"):\n",
    "        print(f\"unpacking to: {dirout}/{refdate}\")\n",
    "        util.extract_tar_pbs(tarfile, dirout)\n",
    "    else:\n",
    "        print(f\"exists: {dirout}/{refdate}\")\n"
   ]
  },
  {
   "cell_type": "code",
   "execution_count": null,
   "id": "ffc7c03b-4026-44d6-ab9a-73206478851f",
   "metadata": {},
   "outputs": [],
   "source": []
  }
 ],
 "metadata": {
  "kernelspec": {
   "display_name": "Python [conda env:miniconda3-onets]",
   "language": "python",
   "name": "conda-env-miniconda3-onets-py"
  },
  "language_info": {
   "codemirror_mode": {
    "name": "ipython",
    "version": 3
   },
   "file_extension": ".py",
   "mimetype": "text/x-python",
   "name": "python",
   "nbconvert_exporter": "python",
   "pygments_lexer": "ipython3",
   "version": "3.7.12"
  }
 },
 "nbformat": 4,
 "nbformat_minor": 5
}
