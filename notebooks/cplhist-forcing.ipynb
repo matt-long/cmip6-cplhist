{
 "cells": [
  {
   "cell_type": "code",
   "execution_count": 1,
   "id": "be957752-9047-4008-8bde-80e1bbb7affa",
   "metadata": {},
   "outputs": [],
   "source": [
    "import os\n",
    "from glob import glob"
   ]
  },
  {
   "cell_type": "code",
   "execution_count": 5,
   "id": "bfb0703d-96a6-41b7-a914-8ea53d2878b4",
   "metadata": {},
   "outputs": [
    {
     "name": "stdout",
     "output_type": "stream",
     "text": [
      "b.e21.B1850.f09_g17.CMIP6-esm-piControl.001: 500\n",
      "b.e21.B1850.f09_g17.CMIP6-piControl.001: 681\n",
      "b.e21.BHIST.f09_g17.CMIP6-historical.001: 0\n",
      "b.e21.BHIST.f09_g17.CMIP6-historical.002: 0\n",
      "b.e21.BHIST.f09_g17.CMIP6-historical.003: 0\n",
      "b.e21.BHIST.f09_g17.CMIP6-historical.004: 0\n",
      "b.e21.BHIST.f09_g17.CMIP6-historical.005: 0\n",
      "b.e21.BHIST.f09_g17.CMIP6-historical.006: 0\n",
      "b.e21.BHIST.f09_g17.CMIP6-historical.007: 0\n",
      "b.e21.BHIST.f09_g17.CMIP6-historical.008: 0\n",
      "b.e21.BHIST.f09_g17.CMIP6-historical.009: 0\n",
      "b.e21.BHIST.f09_g17.CMIP6-historical.010: 872\n",
      "b.e21.BHIST.f09_g17.CMIP6-historical.011: 992\n",
      "b.e21.BSSP126cmip6.f09_g17.CMIP6-SSP1-2.6.101: 173\n",
      "b.e21.BSSP126cmip6.f09_g17.CMIP6-SSP1-2.6.102: 518\n",
      "b.e21.BSSP126cmip6.f09_g17.CMIP6-SSP1-2.6.103: 173\n",
      "b.e21.BSSP245cmip6.f09_g17.CMIP6-SSP2-4.5.101: 173\n",
      "b.e21.BSSP245cmip6.f09_g17.CMIP6-SSP2-4.5.102: 518\n",
      "b.e21.BSSP245cmip6.f09_g17.CMIP6-SSP2-4.5.103: 173\n",
      "b.e21.BSSP370cmip6.f09_g17.CMIP6-SSP3-7.0.101: 173\n",
      "b.e21.BSSP370cmip6.f09_g17.CMIP6-SSP3-7.0.102: 518\n",
      "b.e21.BSSP370cmip6.f09_g17.CMIP6-SSP3-7.0.103: 173\n",
      "b.e21.BSSP585cmip6.f09_g17.CMIP6-SSP5-8.5.101: 173\n",
      "b.e21.BSSP585cmip6.f09_g17.CMIP6-SSP5-8.5.102: 518\n",
      "b.e21.BSSP585cmip6.f09_g17.CMIP6-SSP5-8.5.103: 173\n"
     ]
    }
   ],
   "source": [
    "cplhist_dir = '/glade/campaign/collections/cmip/CMIP6/cpl_hist'\n",
    "\n",
    "caselist = [\n",
    "       'b.e21.B1850.f09_g17.CMIP6-esm-piControl.001',\n",
    "       'b.e21.B1850.f09_g17.CMIP6-piControl.001',\n",
    "       'b.e21.BHIST.f09_g17.CMIP6-historical.001',\n",
    "       'b.e21.BHIST.f09_g17.CMIP6-historical.002',\n",
    "       'b.e21.BHIST.f09_g17.CMIP6-historical.003',\n",
    "       'b.e21.BHIST.f09_g17.CMIP6-historical.004',\n",
    "       'b.e21.BHIST.f09_g17.CMIP6-historical.005',\n",
    "       'b.e21.BHIST.f09_g17.CMIP6-historical.006',\n",
    "       'b.e21.BHIST.f09_g17.CMIP6-historical.007',\n",
    "       'b.e21.BHIST.f09_g17.CMIP6-historical.008',\n",
    "       'b.e21.BHIST.f09_g17.CMIP6-historical.009',\n",
    "       'b.e21.BHIST.f09_g17.CMIP6-historical.010',\n",
    "       'b.e21.BHIST.f09_g17.CMIP6-historical.011',\n",
    "       'b.e21.BSSP126cmip6.f09_g17.CMIP6-SSP1-2.6.101',\n",
    "       'b.e21.BSSP126cmip6.f09_g17.CMIP6-SSP1-2.6.102',\n",
    "       'b.e21.BSSP126cmip6.f09_g17.CMIP6-SSP1-2.6.103',\n",
    "       'b.e21.BSSP245cmip6.f09_g17.CMIP6-SSP2-4.5.101',\n",
    "       'b.e21.BSSP245cmip6.f09_g17.CMIP6-SSP2-4.5.102',\n",
    "       'b.e21.BSSP245cmip6.f09_g17.CMIP6-SSP2-4.5.103',\n",
    "       'b.e21.BSSP370cmip6.f09_g17.CMIP6-SSP3-7.0.101',\n",
    "       'b.e21.BSSP370cmip6.f09_g17.CMIP6-SSP3-7.0.102',\n",
    "       'b.e21.BSSP370cmip6.f09_g17.CMIP6-SSP3-7.0.103',\n",
    "       'b.e21.BSSP585cmip6.f09_g17.CMIP6-SSP5-8.5.101', # branched off 10\n",
    "       'b.e21.BSSP585cmip6.f09_g17.CMIP6-SSP5-8.5.102', # branched off 11\n",
    "       'b.e21.BSSP585cmip6.f09_g17.CMIP6-SSP5-8.5.103', # branched off 4\n",
    "]\n",
    "\n",
    "for case in caselist:\n",
    "    files = sorted(glob(f'{cplhist_dir}/{case}/*'))\n",
    "    print(f'{case}: {len(files)}')"
   ]
  },
  {
   "cell_type": "code",
   "execution_count": null,
   "id": "2580d95c-1280-4a2f-94cb-75e0f8edc82b",
   "metadata": {},
   "outputs": [],
   "source": []
  }
 ],
 "metadata": {
  "kernelspec": {
   "display_name": "Python [conda env:miniconda3-_unison]",
   "language": "python",
   "name": "conda-env-miniconda3-_unison-py"
  },
  "language_info": {
   "codemirror_mode": {
    "name": "ipython",
    "version": 3
   },
   "file_extension": ".py",
   "mimetype": "text/x-python",
   "name": "python",
   "nbconvert_exporter": "python",
   "pygments_lexer": "ipython3",
   "version": "3.7.12"
  }
 },
 "nbformat": 4,
 "nbformat_minor": 5
}
